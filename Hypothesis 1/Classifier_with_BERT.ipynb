{
  "nbformat": 4,
  "nbformat_minor": 0,
  "metadata": {
    "kernelspec": {
      "language": "python",
      "display_name": "Python 3",
      "name": "python3"
    },
    "language_info": {
      "pygments_lexer": "ipython3",
      "nbconvert_exporter": "python",
      "version": "3.6.4",
      "file_extension": ".py",
      "codemirror_mode": {
        "name": "ipython",
        "version": 3
      },
      "name": "python",
      "mimetype": "text/x-python"
    },
    "colab": {
      "name": "Classifier with BERT.ipynb",
      "provenance": [],
      "collapsed_sections": [
        "R1y6iZTnWhll"
      ],
      "include_colab_link": true
    },
    "accelerator": "GPU",
    "widgets": {
      "application/vnd.jupyter.widget-state+json": {
        "5af6a94d2bed47529677e99750205cc2": {
          "model_module": "@jupyter-widgets/controls",
          "model_name": "HBoxModel",
          "state": {
            "_view_name": "HBoxView",
            "_dom_classes": [],
            "_model_name": "HBoxModel",
            "_view_module": "@jupyter-widgets/controls",
            "_model_module_version": "1.5.0",
            "_view_count": null,
            "_view_module_version": "1.5.0",
            "box_style": "",
            "layout": "IPY_MODEL_5c67fc5bf4fc45ec9b2fc3b0d7300ef6",
            "_model_module": "@jupyter-widgets/controls",
            "children": [
              "IPY_MODEL_ca2e1e9ad60b47a493069cf65bf03f93",
              "IPY_MODEL_10eb43104e26487aab4d47275eb30624"
            ]
          }
        },
        "5c67fc5bf4fc45ec9b2fc3b0d7300ef6": {
          "model_module": "@jupyter-widgets/base",
          "model_name": "LayoutModel",
          "state": {
            "_view_name": "LayoutView",
            "grid_template_rows": null,
            "right": null,
            "justify_content": null,
            "_view_module": "@jupyter-widgets/base",
            "overflow": null,
            "_model_module_version": "1.2.0",
            "_view_count": null,
            "flex_flow": null,
            "width": null,
            "min_width": null,
            "border": null,
            "align_items": null,
            "bottom": null,
            "_model_module": "@jupyter-widgets/base",
            "top": null,
            "grid_column": null,
            "overflow_y": null,
            "overflow_x": null,
            "grid_auto_flow": null,
            "grid_area": null,
            "grid_template_columns": null,
            "flex": null,
            "_model_name": "LayoutModel",
            "justify_items": null,
            "grid_row": null,
            "max_height": null,
            "align_content": null,
            "visibility": null,
            "align_self": null,
            "height": null,
            "min_height": null,
            "padding": null,
            "grid_auto_rows": null,
            "grid_gap": null,
            "max_width": null,
            "order": null,
            "_view_module_version": "1.2.0",
            "grid_template_areas": null,
            "object_position": null,
            "object_fit": null,
            "grid_auto_columns": null,
            "margin": null,
            "display": null,
            "left": null
          }
        },
        "ca2e1e9ad60b47a493069cf65bf03f93": {
          "model_module": "@jupyter-widgets/controls",
          "model_name": "IntProgressModel",
          "state": {
            "_view_name": "ProgressView",
            "style": "IPY_MODEL_62b0b39e73f9454f91d3289c6cd8408d",
            "_dom_classes": [],
            "description": "Downloading: 100%",
            "_model_name": "IntProgressModel",
            "bar_style": "success",
            "max": 231508,
            "_view_module": "@jupyter-widgets/controls",
            "_model_module_version": "1.5.0",
            "value": 231508,
            "_view_count": null,
            "_view_module_version": "1.5.0",
            "orientation": "horizontal",
            "min": 0,
            "description_tooltip": null,
            "_model_module": "@jupyter-widgets/controls",
            "layout": "IPY_MODEL_699f4b7de73f4c7f8f2beda54da2b56b"
          }
        },
        "10eb43104e26487aab4d47275eb30624": {
          "model_module": "@jupyter-widgets/controls",
          "model_name": "HTMLModel",
          "state": {
            "_view_name": "HTMLView",
            "style": "IPY_MODEL_8f8cfe335b744b7d97bf03d1aa6387d8",
            "_dom_classes": [],
            "description": "",
            "_model_name": "HTMLModel",
            "placeholder": "​",
            "_view_module": "@jupyter-widgets/controls",
            "_model_module_version": "1.5.0",
            "value": " 232k/232k [00:00&lt;00:00, 773kB/s]",
            "_view_count": null,
            "_view_module_version": "1.5.0",
            "description_tooltip": null,
            "_model_module": "@jupyter-widgets/controls",
            "layout": "IPY_MODEL_10338d1dcf7d469fb479a8d28ba914b6"
          }
        },
        "62b0b39e73f9454f91d3289c6cd8408d": {
          "model_module": "@jupyter-widgets/controls",
          "model_name": "ProgressStyleModel",
          "state": {
            "_view_name": "StyleView",
            "_model_name": "ProgressStyleModel",
            "description_width": "initial",
            "_view_module": "@jupyter-widgets/base",
            "_model_module_version": "1.5.0",
            "_view_count": null,
            "_view_module_version": "1.2.0",
            "bar_color": null,
            "_model_module": "@jupyter-widgets/controls"
          }
        },
        "699f4b7de73f4c7f8f2beda54da2b56b": {
          "model_module": "@jupyter-widgets/base",
          "model_name": "LayoutModel",
          "state": {
            "_view_name": "LayoutView",
            "grid_template_rows": null,
            "right": null,
            "justify_content": null,
            "_view_module": "@jupyter-widgets/base",
            "overflow": null,
            "_model_module_version": "1.2.0",
            "_view_count": null,
            "flex_flow": null,
            "width": null,
            "min_width": null,
            "border": null,
            "align_items": null,
            "bottom": null,
            "_model_module": "@jupyter-widgets/base",
            "top": null,
            "grid_column": null,
            "overflow_y": null,
            "overflow_x": null,
            "grid_auto_flow": null,
            "grid_area": null,
            "grid_template_columns": null,
            "flex": null,
            "_model_name": "LayoutModel",
            "justify_items": null,
            "grid_row": null,
            "max_height": null,
            "align_content": null,
            "visibility": null,
            "align_self": null,
            "height": null,
            "min_height": null,
            "padding": null,
            "grid_auto_rows": null,
            "grid_gap": null,
            "max_width": null,
            "order": null,
            "_view_module_version": "1.2.0",
            "grid_template_areas": null,
            "object_position": null,
            "object_fit": null,
            "grid_auto_columns": null,
            "margin": null,
            "display": null,
            "left": null
          }
        },
        "8f8cfe335b744b7d97bf03d1aa6387d8": {
          "model_module": "@jupyter-widgets/controls",
          "model_name": "DescriptionStyleModel",
          "state": {
            "_view_name": "StyleView",
            "_model_name": "DescriptionStyleModel",
            "description_width": "",
            "_view_module": "@jupyter-widgets/base",
            "_model_module_version": "1.5.0",
            "_view_count": null,
            "_view_module_version": "1.2.0",
            "_model_module": "@jupyter-widgets/controls"
          }
        },
        "10338d1dcf7d469fb479a8d28ba914b6": {
          "model_module": "@jupyter-widgets/base",
          "model_name": "LayoutModel",
          "state": {
            "_view_name": "LayoutView",
            "grid_template_rows": null,
            "right": null,
            "justify_content": null,
            "_view_module": "@jupyter-widgets/base",
            "overflow": null,
            "_model_module_version": "1.2.0",
            "_view_count": null,
            "flex_flow": null,
            "width": null,
            "min_width": null,
            "border": null,
            "align_items": null,
            "bottom": null,
            "_model_module": "@jupyter-widgets/base",
            "top": null,
            "grid_column": null,
            "overflow_y": null,
            "overflow_x": null,
            "grid_auto_flow": null,
            "grid_area": null,
            "grid_template_columns": null,
            "flex": null,
            "_model_name": "LayoutModel",
            "justify_items": null,
            "grid_row": null,
            "max_height": null,
            "align_content": null,
            "visibility": null,
            "align_self": null,
            "height": null,
            "min_height": null,
            "padding": null,
            "grid_auto_rows": null,
            "grid_gap": null,
            "max_width": null,
            "order": null,
            "_view_module_version": "1.2.0",
            "grid_template_areas": null,
            "object_position": null,
            "object_fit": null,
            "grid_auto_columns": null,
            "margin": null,
            "display": null,
            "left": null
          }
        },
        "b1196b4d25234a798b6954bc815f9e37": {
          "model_module": "@jupyter-widgets/controls",
          "model_name": "HBoxModel",
          "state": {
            "_view_name": "HBoxView",
            "_dom_classes": [],
            "_model_name": "HBoxModel",
            "_view_module": "@jupyter-widgets/controls",
            "_model_module_version": "1.5.0",
            "_view_count": null,
            "_view_module_version": "1.5.0",
            "box_style": "",
            "layout": "IPY_MODEL_0fe416d50f9040ea973dd219bd7564ae",
            "_model_module": "@jupyter-widgets/controls",
            "children": [
              "IPY_MODEL_d8a41620fcbf47ab98247b579c880736",
              "IPY_MODEL_82e8eda008394005a92b69d8f0f91053"
            ]
          }
        },
        "0fe416d50f9040ea973dd219bd7564ae": {
          "model_module": "@jupyter-widgets/base",
          "model_name": "LayoutModel",
          "state": {
            "_view_name": "LayoutView",
            "grid_template_rows": null,
            "right": null,
            "justify_content": null,
            "_view_module": "@jupyter-widgets/base",
            "overflow": null,
            "_model_module_version": "1.2.0",
            "_view_count": null,
            "flex_flow": null,
            "width": null,
            "min_width": null,
            "border": null,
            "align_items": null,
            "bottom": null,
            "_model_module": "@jupyter-widgets/base",
            "top": null,
            "grid_column": null,
            "overflow_y": null,
            "overflow_x": null,
            "grid_auto_flow": null,
            "grid_area": null,
            "grid_template_columns": null,
            "flex": null,
            "_model_name": "LayoutModel",
            "justify_items": null,
            "grid_row": null,
            "max_height": null,
            "align_content": null,
            "visibility": null,
            "align_self": null,
            "height": null,
            "min_height": null,
            "padding": null,
            "grid_auto_rows": null,
            "grid_gap": null,
            "max_width": null,
            "order": null,
            "_view_module_version": "1.2.0",
            "grid_template_areas": null,
            "object_position": null,
            "object_fit": null,
            "grid_auto_columns": null,
            "margin": null,
            "display": null,
            "left": null
          }
        },
        "d8a41620fcbf47ab98247b579c880736": {
          "model_module": "@jupyter-widgets/controls",
          "model_name": "IntProgressModel",
          "state": {
            "_view_name": "ProgressView",
            "style": "IPY_MODEL_717b1e8d60f04c7dafea145a41a9645c",
            "_dom_classes": [],
            "description": "Downloading: 100%",
            "_model_name": "IntProgressModel",
            "bar_style": "success",
            "max": 442,
            "_view_module": "@jupyter-widgets/controls",
            "_model_module_version": "1.5.0",
            "value": 442,
            "_view_count": null,
            "_view_module_version": "1.5.0",
            "orientation": "horizontal",
            "min": 0,
            "description_tooltip": null,
            "_model_module": "@jupyter-widgets/controls",
            "layout": "IPY_MODEL_45c836cf6cdb4e2895396891babf38ec"
          }
        },
        "82e8eda008394005a92b69d8f0f91053": {
          "model_module": "@jupyter-widgets/controls",
          "model_name": "HTMLModel",
          "state": {
            "_view_name": "HTMLView",
            "style": "IPY_MODEL_cf9e1d563d7e451fb713e3250f67bd69",
            "_dom_classes": [],
            "description": "",
            "_model_name": "HTMLModel",
            "placeholder": "​",
            "_view_module": "@jupyter-widgets/controls",
            "_model_module_version": "1.5.0",
            "value": " 442/442 [00:08&lt;00:00, 54.6B/s]",
            "_view_count": null,
            "_view_module_version": "1.5.0",
            "description_tooltip": null,
            "_model_module": "@jupyter-widgets/controls",
            "layout": "IPY_MODEL_e58bfca556b742f0a78c0fb38af838d4"
          }
        },
        "717b1e8d60f04c7dafea145a41a9645c": {
          "model_module": "@jupyter-widgets/controls",
          "model_name": "ProgressStyleModel",
          "state": {
            "_view_name": "StyleView",
            "_model_name": "ProgressStyleModel",
            "description_width": "initial",
            "_view_module": "@jupyter-widgets/base",
            "_model_module_version": "1.5.0",
            "_view_count": null,
            "_view_module_version": "1.2.0",
            "bar_color": null,
            "_model_module": "@jupyter-widgets/controls"
          }
        },
        "45c836cf6cdb4e2895396891babf38ec": {
          "model_module": "@jupyter-widgets/base",
          "model_name": "LayoutModel",
          "state": {
            "_view_name": "LayoutView",
            "grid_template_rows": null,
            "right": null,
            "justify_content": null,
            "_view_module": "@jupyter-widgets/base",
            "overflow": null,
            "_model_module_version": "1.2.0",
            "_view_count": null,
            "flex_flow": null,
            "width": null,
            "min_width": null,
            "border": null,
            "align_items": null,
            "bottom": null,
            "_model_module": "@jupyter-widgets/base",
            "top": null,
            "grid_column": null,
            "overflow_y": null,
            "overflow_x": null,
            "grid_auto_flow": null,
            "grid_area": null,
            "grid_template_columns": null,
            "flex": null,
            "_model_name": "LayoutModel",
            "justify_items": null,
            "grid_row": null,
            "max_height": null,
            "align_content": null,
            "visibility": null,
            "align_self": null,
            "height": null,
            "min_height": null,
            "padding": null,
            "grid_auto_rows": null,
            "grid_gap": null,
            "max_width": null,
            "order": null,
            "_view_module_version": "1.2.0",
            "grid_template_areas": null,
            "object_position": null,
            "object_fit": null,
            "grid_auto_columns": null,
            "margin": null,
            "display": null,
            "left": null
          }
        },
        "cf9e1d563d7e451fb713e3250f67bd69": {
          "model_module": "@jupyter-widgets/controls",
          "model_name": "DescriptionStyleModel",
          "state": {
            "_view_name": "StyleView",
            "_model_name": "DescriptionStyleModel",
            "description_width": "",
            "_view_module": "@jupyter-widgets/base",
            "_model_module_version": "1.5.0",
            "_view_count": null,
            "_view_module_version": "1.2.0",
            "_model_module": "@jupyter-widgets/controls"
          }
        },
        "e58bfca556b742f0a78c0fb38af838d4": {
          "model_module": "@jupyter-widgets/base",
          "model_name": "LayoutModel",
          "state": {
            "_view_name": "LayoutView",
            "grid_template_rows": null,
            "right": null,
            "justify_content": null,
            "_view_module": "@jupyter-widgets/base",
            "overflow": null,
            "_model_module_version": "1.2.0",
            "_view_count": null,
            "flex_flow": null,
            "width": null,
            "min_width": null,
            "border": null,
            "align_items": null,
            "bottom": null,
            "_model_module": "@jupyter-widgets/base",
            "top": null,
            "grid_column": null,
            "overflow_y": null,
            "overflow_x": null,
            "grid_auto_flow": null,
            "grid_area": null,
            "grid_template_columns": null,
            "flex": null,
            "_model_name": "LayoutModel",
            "justify_items": null,
            "grid_row": null,
            "max_height": null,
            "align_content": null,
            "visibility": null,
            "align_self": null,
            "height": null,
            "min_height": null,
            "padding": null,
            "grid_auto_rows": null,
            "grid_gap": null,
            "max_width": null,
            "order": null,
            "_view_module_version": "1.2.0",
            "grid_template_areas": null,
            "object_position": null,
            "object_fit": null,
            "grid_auto_columns": null,
            "margin": null,
            "display": null,
            "left": null
          }
        },
        "91a10725a1d4471bb44004c4e980fc49": {
          "model_module": "@jupyter-widgets/controls",
          "model_name": "HBoxModel",
          "state": {
            "_view_name": "HBoxView",
            "_dom_classes": [],
            "_model_name": "HBoxModel",
            "_view_module": "@jupyter-widgets/controls",
            "_model_module_version": "1.5.0",
            "_view_count": null,
            "_view_module_version": "1.5.0",
            "box_style": "",
            "layout": "IPY_MODEL_dde781f7a39947fba628b34dc92ba45d",
            "_model_module": "@jupyter-widgets/controls",
            "children": [
              "IPY_MODEL_bfb707c707e7469caa6070c98a8b4fa1",
              "IPY_MODEL_cb4ae00d5f70496c8876303320d90388"
            ]
          }
        },
        "dde781f7a39947fba628b34dc92ba45d": {
          "model_module": "@jupyter-widgets/base",
          "model_name": "LayoutModel",
          "state": {
            "_view_name": "LayoutView",
            "grid_template_rows": null,
            "right": null,
            "justify_content": null,
            "_view_module": "@jupyter-widgets/base",
            "overflow": null,
            "_model_module_version": "1.2.0",
            "_view_count": null,
            "flex_flow": null,
            "width": null,
            "min_width": null,
            "border": null,
            "align_items": null,
            "bottom": null,
            "_model_module": "@jupyter-widgets/base",
            "top": null,
            "grid_column": null,
            "overflow_y": null,
            "overflow_x": null,
            "grid_auto_flow": null,
            "grid_area": null,
            "grid_template_columns": null,
            "flex": null,
            "_model_name": "LayoutModel",
            "justify_items": null,
            "grid_row": null,
            "max_height": null,
            "align_content": null,
            "visibility": null,
            "align_self": null,
            "height": null,
            "min_height": null,
            "padding": null,
            "grid_auto_rows": null,
            "grid_gap": null,
            "max_width": null,
            "order": null,
            "_view_module_version": "1.2.0",
            "grid_template_areas": null,
            "object_position": null,
            "object_fit": null,
            "grid_auto_columns": null,
            "margin": null,
            "display": null,
            "left": null
          }
        },
        "bfb707c707e7469caa6070c98a8b4fa1": {
          "model_module": "@jupyter-widgets/controls",
          "model_name": "IntProgressModel",
          "state": {
            "_view_name": "ProgressView",
            "style": "IPY_MODEL_5c74e1cf83b049c299ee90352c0a437d",
            "_dom_classes": [],
            "description": "Downloading: 100%",
            "_model_name": "IntProgressModel",
            "bar_style": "success",
            "max": 267967963,
            "_view_module": "@jupyter-widgets/controls",
            "_model_module_version": "1.5.0",
            "value": 267967963,
            "_view_count": null,
            "_view_module_version": "1.5.0",
            "orientation": "horizontal",
            "min": 0,
            "description_tooltip": null,
            "_model_module": "@jupyter-widgets/controls",
            "layout": "IPY_MODEL_76bbd48fdb244c7a9423b8947c2cac4e"
          }
        },
        "cb4ae00d5f70496c8876303320d90388": {
          "model_module": "@jupyter-widgets/controls",
          "model_name": "HTMLModel",
          "state": {
            "_view_name": "HTMLView",
            "style": "IPY_MODEL_26fd76369c094514858daffb0bf18709",
            "_dom_classes": [],
            "description": "",
            "_model_name": "HTMLModel",
            "placeholder": "​",
            "_view_module": "@jupyter-widgets/controls",
            "_model_module_version": "1.5.0",
            "value": " 268M/268M [00:07&lt;00:00, 37.0MB/s]",
            "_view_count": null,
            "_view_module_version": "1.5.0",
            "description_tooltip": null,
            "_model_module": "@jupyter-widgets/controls",
            "layout": "IPY_MODEL_cf3e7103162e4295bf4a23c184c7a045"
          }
        },
        "5c74e1cf83b049c299ee90352c0a437d": {
          "model_module": "@jupyter-widgets/controls",
          "model_name": "ProgressStyleModel",
          "state": {
            "_view_name": "StyleView",
            "_model_name": "ProgressStyleModel",
            "description_width": "initial",
            "_view_module": "@jupyter-widgets/base",
            "_model_module_version": "1.5.0",
            "_view_count": null,
            "_view_module_version": "1.2.0",
            "bar_color": null,
            "_model_module": "@jupyter-widgets/controls"
          }
        },
        "76bbd48fdb244c7a9423b8947c2cac4e": {
          "model_module": "@jupyter-widgets/base",
          "model_name": "LayoutModel",
          "state": {
            "_view_name": "LayoutView",
            "grid_template_rows": null,
            "right": null,
            "justify_content": null,
            "_view_module": "@jupyter-widgets/base",
            "overflow": null,
            "_model_module_version": "1.2.0",
            "_view_count": null,
            "flex_flow": null,
            "width": null,
            "min_width": null,
            "border": null,
            "align_items": null,
            "bottom": null,
            "_model_module": "@jupyter-widgets/base",
            "top": null,
            "grid_column": null,
            "overflow_y": null,
            "overflow_x": null,
            "grid_auto_flow": null,
            "grid_area": null,
            "grid_template_columns": null,
            "flex": null,
            "_model_name": "LayoutModel",
            "justify_items": null,
            "grid_row": null,
            "max_height": null,
            "align_content": null,
            "visibility": null,
            "align_self": null,
            "height": null,
            "min_height": null,
            "padding": null,
            "grid_auto_rows": null,
            "grid_gap": null,
            "max_width": null,
            "order": null,
            "_view_module_version": "1.2.0",
            "grid_template_areas": null,
            "object_position": null,
            "object_fit": null,
            "grid_auto_columns": null,
            "margin": null,
            "display": null,
            "left": null
          }
        },
        "26fd76369c094514858daffb0bf18709": {
          "model_module": "@jupyter-widgets/controls",
          "model_name": "DescriptionStyleModel",
          "state": {
            "_view_name": "StyleView",
            "_model_name": "DescriptionStyleModel",
            "description_width": "",
            "_view_module": "@jupyter-widgets/base",
            "_model_module_version": "1.5.0",
            "_view_count": null,
            "_view_module_version": "1.2.0",
            "_model_module": "@jupyter-widgets/controls"
          }
        },
        "cf3e7103162e4295bf4a23c184c7a045": {
          "model_module": "@jupyter-widgets/base",
          "model_name": "LayoutModel",
          "state": {
            "_view_name": "LayoutView",
            "grid_template_rows": null,
            "right": null,
            "justify_content": null,
            "_view_module": "@jupyter-widgets/base",
            "overflow": null,
            "_model_module_version": "1.2.0",
            "_view_count": null,
            "flex_flow": null,
            "width": null,
            "min_width": null,
            "border": null,
            "align_items": null,
            "bottom": null,
            "_model_module": "@jupyter-widgets/base",
            "top": null,
            "grid_column": null,
            "overflow_y": null,
            "overflow_x": null,
            "grid_auto_flow": null,
            "grid_area": null,
            "grid_template_columns": null,
            "flex": null,
            "_model_name": "LayoutModel",
            "justify_items": null,
            "grid_row": null,
            "max_height": null,
            "align_content": null,
            "visibility": null,
            "align_self": null,
            "height": null,
            "min_height": null,
            "padding": null,
            "grid_auto_rows": null,
            "grid_gap": null,
            "max_width": null,
            "order": null,
            "_view_module_version": "1.2.0",
            "grid_template_areas": null,
            "object_position": null,
            "object_fit": null,
            "grid_auto_columns": null,
            "margin": null,
            "display": null,
            "left": null
          }
        }
      }
    }
  },
  "cells": [
    {
      "cell_type": "markdown",
      "metadata": {
        "id": "view-in-github",
        "colab_type": "text"
      },
      "source": [
        "<a href=\"https://colab.research.google.com/github/tanmay-1srivastava/RF-ID-Attendance-System-/blob/master/Hypothesis%201/Classifier_with_BERT.ipynb\" target=\"_parent\"><img src=\"https://colab.research.google.com/assets/colab-badge.svg\" alt=\"Open In Colab\"/></a>"
      ]
    },
    {
      "cell_type": "markdown",
      "metadata": {
        "id": "YsCXJgTvaXfn",
        "colab_type": "text"
      },
      "source": [
        "##Another implementation "
      ]
    },
    {
      "cell_type": "code",
      "metadata": {
        "id": "iRpoVrRqabQK",
        "colab_type": "code",
        "colab": {
          "base_uri": "https://localhost:8080/",
          "height": 683
        },
        "outputId": "c8575964-910c-4a79-843c-1e374b256bf3"
      },
      "source": [
        "import numpy as np\n",
        "import pandas as pd\n",
        "import torch\n",
        "!pip install transformers\n",
        "import transformers as ppb # pytorch transformers\n",
        "from sklearn.linear_model import LogisticRegression\n",
        "from sklearn.model_selection import cross_val_score\n",
        "from sklearn.model_selection import train_test_split"
      ],
      "execution_count": null,
      "outputs": [
        {
          "output_type": "stream",
          "text": [
            "Collecting transformers\n",
            "\u001b[?25l  Downloading https://files.pythonhosted.org/packages/a3/78/92cedda05552398352ed9784908b834ee32a0bd071a9b32de287327370b7/transformers-2.8.0-py3-none-any.whl (563kB)\n",
            "\u001b[K     |████████████████████████████████| 573kB 4.7MB/s \n",
            "\u001b[?25hRequirement already satisfied: tqdm>=4.27 in /usr/local/lib/python3.6/dist-packages (from transformers) (4.38.0)\n",
            "Requirement already satisfied: boto3 in /usr/local/lib/python3.6/dist-packages (from transformers) (1.12.47)\n",
            "Collecting sacremoses\n",
            "\u001b[?25l  Downloading https://files.pythonhosted.org/packages/7d/34/09d19aff26edcc8eb2a01bed8e98f13a1537005d31e95233fd48216eed10/sacremoses-0.0.43.tar.gz (883kB)\n",
            "\u001b[K     |████████████████████████████████| 890kB 13.0MB/s \n",
            "\u001b[?25hRequirement already satisfied: requests in /usr/local/lib/python3.6/dist-packages (from transformers) (2.23.0)\n",
            "Requirement already satisfied: regex!=2019.12.17 in /usr/local/lib/python3.6/dist-packages (from transformers) (2019.12.20)\n",
            "Requirement already satisfied: numpy in /usr/local/lib/python3.6/dist-packages (from transformers) (1.18.3)\n",
            "Requirement already satisfied: dataclasses; python_version < \"3.7\" in /usr/local/lib/python3.6/dist-packages (from transformers) (0.7)\n",
            "Requirement already satisfied: filelock in /usr/local/lib/python3.6/dist-packages (from transformers) (3.0.12)\n",
            "Collecting tokenizers==0.5.2\n",
            "\u001b[?25l  Downloading https://files.pythonhosted.org/packages/d1/3f/73c881ea4723e43c1e9acf317cf407fab3a278daab3a69c98dcac511c04f/tokenizers-0.5.2-cp36-cp36m-manylinux1_x86_64.whl (3.7MB)\n",
            "\u001b[K     |████████████████████████████████| 3.7MB 21.8MB/s \n",
            "\u001b[?25hCollecting sentencepiece\n",
            "\u001b[?25l  Downloading https://files.pythonhosted.org/packages/98/2c/8df20f3ac6c22ac224fff307ebc102818206c53fc454ecd37d8ac2060df5/sentencepiece-0.1.86-cp36-cp36m-manylinux1_x86_64.whl (1.0MB)\n",
            "\u001b[K     |████████████████████████████████| 1.0MB 44.2MB/s \n",
            "\u001b[?25hRequirement already satisfied: jmespath<1.0.0,>=0.7.1 in /usr/local/lib/python3.6/dist-packages (from boto3->transformers) (0.9.5)\n",
            "Requirement already satisfied: s3transfer<0.4.0,>=0.3.0 in /usr/local/lib/python3.6/dist-packages (from boto3->transformers) (0.3.3)\n",
            "Requirement already satisfied: botocore<1.16.0,>=1.15.47 in /usr/local/lib/python3.6/dist-packages (from boto3->transformers) (1.15.47)\n",
            "Requirement already satisfied: six in /usr/local/lib/python3.6/dist-packages (from sacremoses->transformers) (1.12.0)\n",
            "Requirement already satisfied: click in /usr/local/lib/python3.6/dist-packages (from sacremoses->transformers) (7.1.2)\n",
            "Requirement already satisfied: joblib in /usr/local/lib/python3.6/dist-packages (from sacremoses->transformers) (0.14.1)\n",
            "Requirement already satisfied: idna<3,>=2.5 in /usr/local/lib/python3.6/dist-packages (from requests->transformers) (2.9)\n",
            "Requirement already satisfied: certifi>=2017.4.17 in /usr/local/lib/python3.6/dist-packages (from requests->transformers) (2020.4.5.1)\n",
            "Requirement already satisfied: urllib3!=1.25.0,!=1.25.1,<1.26,>=1.21.1 in /usr/local/lib/python3.6/dist-packages (from requests->transformers) (1.24.3)\n",
            "Requirement already satisfied: chardet<4,>=3.0.2 in /usr/local/lib/python3.6/dist-packages (from requests->transformers) (3.0.4)\n",
            "Requirement already satisfied: python-dateutil<3.0.0,>=2.1 in /usr/local/lib/python3.6/dist-packages (from botocore<1.16.0,>=1.15.47->boto3->transformers) (2.8.1)\n",
            "Requirement already satisfied: docutils<0.16,>=0.10 in /usr/local/lib/python3.6/dist-packages (from botocore<1.16.0,>=1.15.47->boto3->transformers) (0.15.2)\n",
            "Building wheels for collected packages: sacremoses\n",
            "  Building wheel for sacremoses (setup.py) ... \u001b[?25l\u001b[?25hdone\n",
            "  Created wheel for sacremoses: filename=sacremoses-0.0.43-cp36-none-any.whl size=893260 sha256=88b0e0cdcf4e624b6107b39ecaeca5bdde3fd2e9307eda0709ff97e3ac3f6442\n",
            "  Stored in directory: /root/.cache/pip/wheels/29/3c/fd/7ce5c3f0666dab31a50123635e6fb5e19ceb42ce38d4e58f45\n",
            "Successfully built sacremoses\n",
            "Installing collected packages: sacremoses, tokenizers, sentencepiece, transformers\n",
            "Successfully installed sacremoses-0.0.43 sentencepiece-0.1.86 tokenizers-0.5.2 transformers-2.8.0\n"
          ],
          "name": "stdout"
        }
      ]
    },
    {
      "cell_type": "code",
      "metadata": {
        "id": "rX8ofcHvcGqN",
        "colab_type": "code",
        "colab": {
          "base_uri": "https://localhost:8080/",
          "height": 34
        },
        "outputId": "c8506e59-7ba5-4755-cd5a-90c32f7c8831"
      },
      "source": [
        "train = pd.read_csv('OddEvenUnique - OddEvenUnique (1).csv')\n",
        "train = train[train['ZLabel'].notna()]\n",
        "train = train[:-1]\n",
        "train.shape"
      ],
      "execution_count": null,
      "outputs": [
        {
          "output_type": "execute_result",
          "data": {
            "text/plain": [
              "(800, 14)"
            ]
          },
          "metadata": {
            "tags": []
          },
          "execution_count": 2
        }
      ]
    },
    {
      "cell_type": "code",
      "metadata": {
        "id": "eqJivPAZc76i",
        "colab_type": "code",
        "colab": {
          "base_uri": "https://localhost:8080/",
          "height": 164,
          "referenced_widgets": [
            "5af6a94d2bed47529677e99750205cc2",
            "5c67fc5bf4fc45ec9b2fc3b0d7300ef6",
            "ca2e1e9ad60b47a493069cf65bf03f93",
            "10eb43104e26487aab4d47275eb30624",
            "62b0b39e73f9454f91d3289c6cd8408d",
            "699f4b7de73f4c7f8f2beda54da2b56b",
            "8f8cfe335b744b7d97bf03d1aa6387d8",
            "10338d1dcf7d469fb479a8d28ba914b6",
            "b1196b4d25234a798b6954bc815f9e37",
            "0fe416d50f9040ea973dd219bd7564ae",
            "d8a41620fcbf47ab98247b579c880736",
            "82e8eda008394005a92b69d8f0f91053",
            "717b1e8d60f04c7dafea145a41a9645c",
            "45c836cf6cdb4e2895396891babf38ec",
            "cf9e1d563d7e451fb713e3250f67bd69",
            "e58bfca556b742f0a78c0fb38af838d4",
            "91a10725a1d4471bb44004c4e980fc49",
            "dde781f7a39947fba628b34dc92ba45d",
            "bfb707c707e7469caa6070c98a8b4fa1",
            "cb4ae00d5f70496c8876303320d90388",
            "5c74e1cf83b049c299ee90352c0a437d",
            "76bbd48fdb244c7a9423b8947c2cac4e",
            "26fd76369c094514858daffb0bf18709",
            "cf3e7103162e4295bf4a23c184c7a045"
          ]
        },
        "outputId": "d680254d-afc5-4b5c-f943-14d55105ffea"
      },
      "source": [
        "model_class, tokenizer_class, pretrained_weights = (ppb.DistilBertModel, ppb.DistilBertTokenizer, 'distilbert-base-uncased')\n",
        "\n",
        "## Want BERT instead of distilBERT? Uncomment the following line:\n",
        "#model_class, tokenizer_class, pretrained_weights = (ppb.BertModel, ppb.BertTokenizer, 'bert-base-uncased')\n",
        "# Load pretrained model/tokenizer\n",
        "tokenizer = tokenizer_class.from_pretrained(pretrained_weights)\n",
        "#\n",
        "model = model_class.from_pretrained(pretrained_weights)"
      ],
      "execution_count": null,
      "outputs": [
        {
          "output_type": "display_data",
          "data": {
            "application/vnd.jupyter.widget-view+json": {
              "model_id": "5af6a94d2bed47529677e99750205cc2",
              "version_minor": 0,
              "version_major": 2
            },
            "text/plain": [
              "HBox(children=(IntProgress(value=0, description='Downloading', max=231508, style=ProgressStyle(description_wid…"
            ]
          },
          "metadata": {
            "tags": []
          }
        },
        {
          "output_type": "stream",
          "text": [
            "\n"
          ],
          "name": "stdout"
        },
        {
          "output_type": "display_data",
          "data": {
            "application/vnd.jupyter.widget-view+json": {
              "model_id": "b1196b4d25234a798b6954bc815f9e37",
              "version_minor": 0,
              "version_major": 2
            },
            "text/plain": [
              "HBox(children=(IntProgress(value=0, description='Downloading', max=442, style=ProgressStyle(description_width=…"
            ]
          },
          "metadata": {
            "tags": []
          }
        },
        {
          "output_type": "stream",
          "text": [
            "\n"
          ],
          "name": "stdout"
        },
        {
          "output_type": "display_data",
          "data": {
            "application/vnd.jupyter.widget-view+json": {
              "model_id": "91a10725a1d4471bb44004c4e980fc49",
              "version_minor": 0,
              "version_major": 2
            },
            "text/plain": [
              "HBox(children=(IntProgress(value=0, description='Downloading', max=267967963, style=ProgressStyle(description_…"
            ]
          },
          "metadata": {
            "tags": []
          }
        },
        {
          "output_type": "stream",
          "text": [
            "\n"
          ],
          "name": "stdout"
        }
      ]
    },
    {
      "cell_type": "code",
      "metadata": {
        "id": "ckd-Hu6utKOd",
        "colab_type": "code",
        "colab": {}
      },
      "source": [
        "train.tweet.str.len().max()\n",
        "def preprocess(tweet):\n",
        "  #tweet = tweet.replace('@ ','@').replace('# ','#')\n",
        "  return ' '.join(w for w in tweet.split() if w[0] not in ['@'] and \n",
        "                  not w.startswith('pic.twitter.com') and\n",
        "                  not w.startswith('http://') and\n",
        "                  not w.startswith('https://')).lower()\n",
        "train['tweet'] = train['tweet'].apply(preprocess)"
      ],
      "execution_count": null,
      "outputs": []
    },
    {
      "cell_type": "code",
      "metadata": {
        "id": "OeCzfHN6dCP7",
        "colab_type": "code",
        "colab": {}
      },
      "source": [
        "tokenized = train['tweet'].apply((lambda x: tokenizer.encode(x, add_special_tokens=True)))"
      ],
      "execution_count": null,
      "outputs": []
    },
    {
      "cell_type": "code",
      "metadata": {
        "id": "osw3wrakeS4V",
        "colab_type": "code",
        "colab": {
          "base_uri": "https://localhost:8080/",
          "height": 34
        },
        "outputId": "fd1ad03e-d442-4496-a992-e029745bb2af"
      },
      "source": [
        "max_len = 0\n",
        "for i in tokenized.values:\n",
        "    if len(i) > max_len:\n",
        "        max_len = len(i)\n",
        "padded = np.array([i + [0]*(max_len-len(i)) for i in tokenized.values])\n",
        "np.array(padded).shape"
      ],
      "execution_count": null,
      "outputs": [
        {
          "output_type": "execute_result",
          "data": {
            "text/plain": [
              "(800, 122)"
            ]
          },
          "metadata": {
            "tags": []
          },
          "execution_count": 6
        }
      ]
    },
    {
      "cell_type": "code",
      "metadata": {
        "id": "TbsD3DireaJ3",
        "colab_type": "code",
        "colab": {
          "base_uri": "https://localhost:8080/",
          "height": 34
        },
        "outputId": "6946be9f-e39a-4a3f-f07b-aab746b87d02"
      },
      "source": [
        "attention_mask = np.where(padded != 0, 1, 0)\n",
        "attention_mask.shape"
      ],
      "execution_count": null,
      "outputs": [
        {
          "output_type": "execute_result",
          "data": {
            "text/plain": [
              "(800, 122)"
            ]
          },
          "metadata": {
            "tags": []
          },
          "execution_count": 7
        }
      ]
    },
    {
      "cell_type": "code",
      "metadata": {
        "id": "MrT1lS9Pel4-",
        "colab_type": "code",
        "colab": {}
      },
      "source": [
        "input_ids = torch.tensor(padded)  \n",
        "attention_mask = torch.tensor(attention_mask)\n",
        "with torch.no_grad():\n",
        "    last_hidden_states = model(input_ids, attention_mask=attention_mask)"
      ],
      "execution_count": null,
      "outputs": []
    },
    {
      "cell_type": "code",
      "metadata": {
        "id": "1zH640J8_bYm",
        "colab_type": "code",
        "colab": {
          "base_uri": "https://localhost:8080/",
          "height": 34
        },
        "outputId": "b233da6c-2860-4977-b444-3dd4547c918a"
      },
      "source": [
        "print(last_hidden_states[0][0,:,:].shape)"
      ],
      "execution_count": null,
      "outputs": [
        {
          "output_type": "stream",
          "text": [
            "torch.Size([122, 768])\n"
          ],
          "name": "stdout"
        }
      ]
    },
    {
      "cell_type": "code",
      "metadata": {
        "id": "aJ1YCgiAtep5",
        "colab_type": "code",
        "colab": {
          "base_uri": "https://localhost:8080/",
          "height": 34
        },
        "outputId": "b798b628-447f-4cd2-ed13-65deefe618c9"
      },
      "source": [
        "features = last_hidden_states[0][:,0,:].numpy()\n",
        "labels = train['ZLabel']\n",
        "print(labels.shape)"
      ],
      "execution_count": null,
      "outputs": [
        {
          "output_type": "stream",
          "text": [
            "(800,)\n"
          ],
          "name": "stdout"
        }
      ]
    },
    {
      "cell_type": "code",
      "metadata": {
        "id": "QOt_Z1rJosbH",
        "colab_type": "code",
        "colab": {
          "base_uri": "https://localhost:8080/",
          "height": 275
        },
        "outputId": "fb3797b5-eba6-4bdd-a0dd-a69c9eabd47f"
      },
      "source": [
        "df = pd.DataFrame(columns=['labels'])\n",
        "df['labels'] = labels\n",
        "ax = df['labels'].value_counts().plot(kind='bar')\n",
        "for p in ax.patches:\n",
        "    ax.annotate(str(p.get_height()), (p.get_x() * 1.005, p.get_height() * 1.005))"
      ],
      "execution_count": null,
      "outputs": [
        {
          "output_type": "display_data",
          "data": {
            "image/png": "[encoded data removed]",
            "text/plain": [
              "<Figure size 432x288 with 1 Axes>"
            ]
          },
          "metadata": {
            "tags": [],
            "needs_background": "light"
          }
        }
      ]
    },
    {
      "cell_type": "markdown",
      "metadata": {
        "id": "FyAgYLZ3hNn_",
        "colab_type": "text"
      },
      "source": [
        "##LR"
      ]
    },
    {
      "cell_type": "code",
      "metadata": {
        "id": "Dlc1bhIruVUG",
        "colab_type": "code",
        "colab": {
          "base_uri": "https://localhost:8080/",
          "height": 34
        },
        "outputId": "e9c83a1f-64c4-4c92-ffc8-1db513cd82a8"
      },
      "source": [
        "import pandas as pd\n",
        "import numpy as np\n",
        "from sklearn.metrics import cohen_kappa_score\n",
        "from sklearn.metrics import accuracy_score, f1_score\n",
        "from sklearn.metrics import balanced_accuracy_score\n",
        "from matplotlib import pyplot as plt\n",
        "from __future__ import print_function\n",
        "import keras\n",
        "from keras.datasets import mnist\n",
        "from keras.models import Sequential\n",
        "from keras.layers import Dense, Dropout, Flatten\n",
        "import numpy\n",
        "from sklearn.model_selection import GridSearchCV\n",
        "from keras.wrappers.scikit_learn import KerasClassifier\n",
        "from keras.optimizers import SGD\n",
        "from keras.constraints import maxnorm\n",
        "#pd.set_option('display.max_colwidth', 2000) # To visualize full output\n",
        "pd.set_option(\"display.max_rows\", None, \"display.max_columns\", None)"
      ],
      "execution_count": null,
      "outputs": [
        {
          "output_type": "stream",
          "text": [
            "Using TensorFlow backend.\n"
          ],
          "name": "stderr"
        }
      ]
    },
    {
      "cell_type": "code",
      "metadata": {
        "id": "vx87oyxB1Lmb",
        "colab_type": "code",
        "colab": {}
      },
      "source": [
        "from itertools import product\n",
        "from sklearn.naive_bayes import MultinomialNB\n",
        "from sklearn.metrics import balanced_accuracy_score\n",
        "\n",
        "def create_model(C, penalty):\n",
        "\t# create model:\n",
        "  nb = LogisticRegression(C = C ,penalty = penalty,solver='liblinear',fit_intercept= True)\n",
        "  return nb\n",
        "\n",
        "def GridSearchCV(X, y, train_val_index, y_train_val, param_grid):\n",
        "  hyperpara_dict = {}\n",
        "  \n",
        "  kfInner = StratifiedKFold(5, shuffle=True, random_state=0)\n",
        "  train_ind, val_ind = next(kfInner.split(train_val_index, y_train_val))\n",
        "  train_df_ind = train_val_index[train_ind]\n",
        "  val_df_ind = train_val_index[val_ind]\n",
        "  X_train, y_train = X[train_df_ind], y[train_df_ind]\n",
        "  X_val, y_val = X[val_df_ind], y[val_df_ind]\n",
        "  #smt = SMOTE(random_state=0)\n",
        "  #XXX, yyy = smt.fit_resample(X_train, y_train)\n",
        "  for C, penalty in product(*param_grid.values()):\n",
        "    model = create_model(C, penalty)\n",
        "    model.fit(X_train,y_train)\n",
        "    res = model.predict(X_val)\n",
        "    score = pd.DataFrame(res)\n",
        "    y_pred = pd.DataFrame(res)\n",
        "    accuracy = f1_score(y_val, y_pred, average='macro')\n",
        "    hyperpara_dict.update({(C,penalty) : accuracy})\n",
        "  return max(hyperpara_dict, key=lambda x: hyperpara_dict[x])"
      ],
      "execution_count": null,
      "outputs": []
    },
    {
      "cell_type": "code",
      "metadata": {
        "id": "oatyA95E1TWF",
        "colab_type": "code",
        "colab": {}
      },
      "source": [
        "X = features\n",
        "y = labels\n",
        "parameters = {'C': [0.01,0.1,10,100],\n",
        "              'penalty': ('l1', 'l2')}\n",
        "\n",
        "from sklearn.model_selection import StratifiedKFold\n",
        "kf = StratifiedKFold()\n",
        "test_inds = []\n",
        "test_preds = []\n",
        "test = []\n",
        "score = []\n",
        "for train_val_index, test_index in kf.split(X, y):\n",
        "  X_train_val, X_test = X[train_val_index], X[test_index]\n",
        "  y_train_val, y_test = y[train_val_index], y[test_index]\n",
        "  C, penalty = GridSearchCV(X, y, train_val_index, y_train_val, parameters)\n",
        "  print('best', C,penalty)\n",
        "  model = create_model(C,penalty)\n",
        "  #smt = SMOTE(random_state=0)\n",
        "  #XXX, yyy = smt.fit_resample(X_train_val, y_train_val)\n",
        "  model.fit(X_train_val, y_train_val)\n",
        "  res = model.predict(X_test)\n",
        "  sc = model.predict_proba(X_test)\n",
        "  sc = pd.DataFrame(sc).max(axis =1)\n",
        "  y_pred = res\n",
        "  accuracy = f1_score(y_test, y_pred, average='macro')\n",
        "  print(accuracy)\n",
        "  test_inds.extend(test_index)\n",
        "  test_preds.extend(y_pred)\n",
        "  test.extend(y_test)\n",
        "  score.extend(sc)"
      ],
      "execution_count": null,
      "outputs": []
    },
    {
      "cell_type": "code",
      "metadata": {
        "id": "ea-LITyRznfA",
        "colab_type": "code",
        "colab": {}
      },
      "source": [
        "import matplotlib.pyplot as plt\n",
        "import seaborn as sns\n",
        "from sklearn.metrics import classification_report, balanced_accuracy_score, confusion_matrix\n",
        "import warnings\n",
        "warnings.filterwarnings(\"ignore\")\n",
        "print(classification_report(test, test_preds))\n",
        "sns.heatmap((confusion_matrix(test,test_preds)),annot=True,annot_kws={\"size\": 40},cbar=False,fmt='g',\n",
        "            xticklabels=[-1,0,1], yticklabels=[-1,0,1])\n",
        "\n",
        "\n",
        "plt.xlabel('predicted')\n",
        "plt.ylabel('ground truth')"
      ],
      "execution_count": null,
      "outputs": []
    },
    {
      "cell_type": "code",
      "metadata": {
        "id": "Jgi3BfFe6knj",
        "colab_type": "code",
        "colab": {}
      },
      "source": [
        "df = pd.DataFrame(columns=['ZLabel', 'pred', 'score'])\n",
        "df['ZLabel'] = test\n",
        "df['pred'] = test_preds\n",
        "df['score'] = score\n",
        "#result.to_csv('3nbmogwithoutfinal.csv')\n",
        "\n",
        "x = []\n",
        "y = []\n",
        "y0 = []\n",
        "y1 = []\n",
        "y2 = []\n",
        "N = []\n",
        "for i in np.arange(3,10,0.1):\n",
        "    x.append(i/10)\n",
        "    ddata = df[df['score'] >= i*0.1]\n",
        "    N.append(len(ddata))\n",
        "    y.append(round(f1_score(ddata['ZLabel'], ddata['pred'], average='macro'),2))\n",
        "    y0.append(round(f1_score(ddata['ZLabel'], ddata['pred'], average=None)[0],2))\n",
        "    y1.append(round(f1_score(ddata['ZLabel'], ddata['pred'], average=None)[1],2))\n",
        "    y2.append(round(f1_score(ddata['ZLabel'], ddata['pred'], average=None)[2],2))\n",
        "plt.figure(figsize=(12,10))\n",
        "plt.plot(x, y, 'ro-', label='Macro F1', linewidth=3)\n",
        "\n",
        "plt.plot(x, y1, 'go-', label='F1 for 0')\n",
        "plt.plot(x, y0, 'yo-', label='F1 for -1')\n",
        "plt.plot(x, y2, 'bo-', label='F1 for +1')\n",
        "plt.plot(x, np.array(N)/650, 'ko-', label='Number of entries')\n",
        "\n",
        "def annotate(x, y):\n",
        "    for xx, yy in zip(x, y):\n",
        "        plt.annotate(str(yy),(xx, yy),size=12)\n",
        "annotate(x, y)\n",
        "annotate(x, y0)\n",
        "annotate(x, y1)\n",
        "annotate(x, y2)\n",
        "for xx, yy in zip(x, np.array(N)):\n",
        "        plt.annotate(str(yy),(xx, yy/650),size=12)\n",
        "plt.ylabel('F1 Score')\n",
        "plt.xlabel('proba greater than')\n",
        "plt.title('3C F1 Score')\n",
        "plt.legend()\n",
        "plt.show()\n",
        "index_max = np.argmax(y)\n",
        "print(max(y))\n",
        "print(x[index_max])\n",
        "print(N[index_max])"
      ],
      "execution_count": null,
      "outputs": []
    },
    {
      "cell_type": "markdown",
      "metadata": {
        "id": "D_OciBTGl6IC",
        "colab_type": "text"
      },
      "source": [
        "##SVC RBF"
      ]
    },
    {
      "cell_type": "code",
      "metadata": {
        "id": "fKfPxGHCl9ZX",
        "colab_type": "code",
        "colab": {
          "base_uri": "https://localhost:8080/",
          "height": 34
        },
        "outputId": "62e81a03-5016-4183-f8b9-d8c3a958d677"
      },
      "source": [
        "from sklearn.svm import SVC\n",
        "import pandas as pd\n",
        "import numpy as np\n",
        "from sklearn.metrics import cohen_kappa_score\n",
        "from sklearn.metrics import accuracy_score, f1_score\n",
        "from sklearn.metrics import balanced_accuracy_score\n",
        "from matplotlib import pyplot as plt\n",
        "from __future__ import print_function\n",
        "import keras\n",
        "from keras.datasets import mnist\n",
        "from keras.models import Sequential\n",
        "from keras.layers import Dense, Dropout, Flatten\n",
        "import numpy\n",
        "from sklearn.model_selection import GridSearchCV\n",
        "from keras.wrappers.scikit_learn import KerasClassifier\n",
        "from keras.optimizers import SGD\n",
        "from keras.constraints import maxnorm\n",
        "#pd.set_option('display.max_colwidth', 2000) # To visualize full output\n",
        "pd.set_option(\"display.max_rows\", None, \"display.max_columns\", None)"
      ],
      "execution_count": null,
      "outputs": [
        {
          "output_type": "stream",
          "text": [
            "Using TensorFlow backend.\n"
          ],
          "name": "stderr"
        }
      ]
    },
    {
      "cell_type": "code",
      "metadata": {
        "id": "4B0SxCMHmvzW",
        "colab_type": "code",
        "colab": {}
      },
      "source": [
        "from itertools import product\n",
        "from sklearn.metrics import balanced_accuracy_score\n",
        "\n",
        "def create_model(C,gamma):\n",
        "\t# create model:\n",
        "  nb = SVC(C = C, gamma = gamma,probability= True )\n",
        "  return nb\n",
        "\n",
        "def GridSearchCV(X, y, train_val_index, y_train_val, param_grid):\n",
        "  hyperpara_dict = {}\n",
        "  \n",
        "  kfInner = StratifiedKFold(5, shuffle=True, random_state=0)\n",
        "  train_ind, val_ind = next(kfInner.split(train_val_index, y_train_val))\n",
        "  train_df_ind = train_val_index[train_ind]\n",
        "  val_df_ind = train_val_index[val_ind]\n",
        "  X_train, y_train = X[train_df_ind], y.iloc[train_df_ind]\n",
        "  X_val, y_val = X[val_df_ind], y.iloc[val_df_ind]\n",
        "  #smt = SMOTE(random_state=0)\n",
        "  #XXX, yyy = smt.fit_resample(X_train, y_train)\n",
        "  for C,gamma in product(*param_grid.values()):\n",
        "    model = create_model(C,gamma)\n",
        "    model.fit(X_train,y_train)\n",
        "    res = model.predict(X_val)\n",
        "    score = pd.DataFrame(res)\n",
        "    y_pred = pd.DataFrame(res)\n",
        "    accuracy = f1_score(y_val, y_pred, average='macro')\n",
        "    hyperpara_dict.update({(C,gamma) : accuracy})\n",
        "  return max(hyperpara_dict, key=lambda x: hyperpara_dict[x])"
      ],
      "execution_count": null,
      "outputs": []
    },
    {
      "cell_type": "code",
      "metadata": {
        "id": "FfirWEgBm-c0",
        "colab_type": "code",
        "colab": {}
      },
      "source": [
        "# Main code\n",
        "from sklearn.model_selection import train_test_split\n",
        "#df_main.loc[df_main['ZLabel'] == -1, 'ZLabel'] = 0\n",
        "#df_main.loc[df_main['ZLabel'] == -1, 'ZLabel'] = 0\n",
        "y = labels\n",
        "X = features\n",
        "\n",
        "tuned_parameters = {\n",
        "                    'gamma': [0.01.0.001,0.0001],\n",
        "                     'C': [0.01,0.1,10,100] }\n",
        "\n",
        "from sklearn.model_selection import StratifiedKFold\n",
        "kf = StratifiedKFold()\n",
        "test_inds = []\n",
        "test_preds = []\n",
        "test = []\n",
        "score = []\n",
        "for train_val_index, test_index in kf.split(X, y):\n",
        "  X_train_val, X_test = X[train_val_index], X[test_index]\n",
        "  y_train_val, y_test = y.iloc[train_val_index], y.iloc[test_index]\n",
        "  C,gamma = GridSearchCV(X, y, train_val_index, y_train_val, tuned_parameters)\n",
        "  print('best',C,gamma)\n",
        "  model = create_model(C,gamma)\n",
        "  #smt = SMOTE(random_state=0)\n",
        "  #XXX, yyy = smt.fit_resample(X_train_val, y_train_val)\n",
        "  model.fit(X_train_val, y_train_val)\n",
        "  res = model.predict(X_test)\n",
        "  sc = model.predict_proba(X_test)\n",
        "  sc = pd.DataFrame(sc).max(axis =1)\n",
        "  y_pred = res\n",
        "  accuracy = f1_score(y_test, y_pred, average='macro')\n",
        "  print(accuracy)\n",
        "  test_inds.extend(test_index)\n",
        "  test_preds.extend(y_pred)\n",
        "  test.extend(y_test)\n",
        "  score.extend(sc)"
      ],
      "execution_count": null,
      "outputs": []
    },
    {
      "cell_type": "code",
      "metadata": {
        "id": "kWYNBIieqrt0",
        "colab_type": "code",
        "colab": {}
      },
      "source": [
        "import matplotlib.pyplot as plt\n",
        "import seaborn as sns\n",
        "from sklearn.metrics import classification_report, balanced_accuracy_score, confusion_matrix\n",
        "import warnings\n",
        "warnings.filterwarnings(\"ignore\")\n",
        "\n",
        "print(classification_report(test, test_preds))\n",
        "sns.heatmap((confusion_matrix(test,test_preds)),annot=True,annot_kws={\"size\": 40},cbar=False,fmt='g',\n",
        "            xticklabels=[-1,0,1], yticklabels=[-1,0,1])\n",
        "\n",
        "\n",
        "plt.xlabel('predicted')\n",
        "plt.ylabel('ground truth')"
      ],
      "execution_count": null,
      "outputs": []
    },
    {
      "cell_type": "markdown",
      "metadata": {
        "id": "YRF4uv1frHP8",
        "colab_type": "text"
      },
      "source": [
        "##SVC Polynomial"
      ]
    },
    {
      "cell_type": "code",
      "metadata": {
        "id": "6UnL7f9RqjmN",
        "colab_type": "code",
        "colab": {}
      },
      "source": [
        "from sklearn.svm import SVC\n",
        "import pandas as pd\n",
        "import numpy as np\n",
        "from sklearn.metrics import cohen_kappa_score\n",
        "from sklearn.metrics import accuracy_score, f1_score\n",
        "from sklearn.metrics import balanced_accuracy_score\n",
        "from matplotlib import pyplot as plt\n",
        "from __future__ import print_function\n",
        "import keras\n",
        "from keras.datasets import mnist\n",
        "from keras.models import Sequential\n",
        "from keras.layers import Dense, Dropout, Flatten\n",
        "import numpy\n",
        "from sklearn.model_selection import GridSearchCV\n",
        "from keras.wrappers.scikit_learn import KerasClassifier\n",
        "from keras.optimizers import SGD\n",
        "from keras.constraints import maxnorm\n",
        "#pd.set_option('display.max_colwidth', 2000) # To visualize full output\n",
        "pd.set_option(\"display.max_rows\", None, \"display.max_columns\", None)"
      ],
      "execution_count": null,
      "outputs": []
    },
    {
      "cell_type": "code",
      "metadata": {
        "id": "zr-6GPrUrX0v",
        "colab_type": "code",
        "colab": {}
      },
      "source": [
        "from itertools import product\n",
        "from sklearn.metrics import balanced_accuracy_score\n",
        "\n",
        "def create_model(C,gamma,degree):\n",
        "\t# create model:\n",
        "  nb = SVC(kernel = 'poly',C = C, gamma = gamma,probability= True,degree = degree )\n",
        "  return nb\n",
        "\n",
        "def GridSearchCV(X, y, train_val_index, y_train_val, param_grid):\n",
        "  hyperpara_dict = {}\n",
        "  \n",
        "  kfInner = StratifiedKFold(5, shuffle=True, random_state=0)\n",
        "  train_ind, val_ind = next(kfInner.split(train_val_index, y_train_val))\n",
        "  train_df_ind = train_val_index[train_ind]\n",
        "  val_df_ind = train_val_index[val_ind]\n",
        "  X_train, y_train = X[train_df_ind], y[train_df_ind]\n",
        "  X_val, y_val = X[val_df_ind], y[val_df_ind]\n",
        "  #smt = SMOTE(random_state=0)\n",
        "  #XXX, yyy = smt.fit_resample(X_train, y_train)\n",
        "  for C,gamma,degree in product(*param_grid.values()):\n",
        "    model = create_model(C,gamma,degree)\n",
        "    model.fit(X_train,y_train)\n",
        "    res = model.predict(X_val)\n",
        "    score = pd.DataFrame(res)\n",
        "    y_pred = pd.DataFrame(res)\n",
        "    accuracy = f1_score(y_val, y_pred, average='macro')\n",
        "    hyperpara_dict.update({(C,gamma,degree) : accuracy})\n",
        "  return max(hyperpara_dict, key=lambda x: hyperpara_dict[x])"
      ],
      "execution_count": null,
      "outputs": []
    },
    {
      "cell_type": "code",
      "metadata": {
        "id": "qSxj8lpcrbcF",
        "colab_type": "code",
        "colab": {}
      },
      "source": [
        "# Main code\n",
        "from sklearn.model_selection import train_test_split\n",
        "#df_main.loc[df_main['ZLabel'] == -1, 'ZLabel'] = 0\n",
        "#df_main.loc[df_main['ZLabel'] == -1, 'ZLabel'] = 0\n",
        "y = labels\n",
        "X = features\n",
        "\n",
        "tuned_parameters = {\n",
        "                    'gamma': [0.01,0.001,0.0001],\n",
        "                     'C': [0.001,0.1, 10, 100] ,\n",
        "                      'degree': [3,5,7,9]}\n",
        "\n",
        "from sklearn.model_selection import StratifiedKFold\n",
        "kf = StratifiedKFold()\n",
        "test_inds = []\n",
        "test_preds = []\n",
        "test = []\n",
        "score = []\n",
        "for train_val_index, test_index in kf.split(X, y):\n",
        "  X_train_val, X_test = X[train_val_index], X[test_index]\n",
        "  y_train_val, y_test = y[train_val_index], y[test_index]\n",
        "  C,gamma,degree = GridSearchCV(X, y, train_val_index, y_train_val, tuned_parameters)\n",
        "  print('best',C,gamma,degree)\n",
        "  model = create_model(C,gamma,degree)\n",
        "  #smt = SMOTE(random_state=0)\n",
        "  #XXX, yyy = smt.fit_resample(X_train_val, y_train_val)\n",
        "  model.fit(X_train_val, y_train_val)\n",
        "  res = model.predict(X_test)\n",
        "  sc = model.predict_proba(X_test)\n",
        "  sc = pd.DataFrame(sc).max(axis =1)\n",
        "  y_pred = res\n",
        "  accuracy = f1_score(y_test, y_pred, average='macro')\n",
        "  print(accuracy)\n",
        "  test_inds.extend(test_index)\n",
        "  test_preds.extend(y_pred)\n",
        "  test.extend(y_test)\n",
        "  score.extend(sc)"
      ],
      "execution_count": null,
      "outputs": []
    },
    {
      "cell_type": "code",
      "metadata": {
        "id": "JKzKHERjrhwA",
        "colab_type": "code",
        "colab": {}
      },
      "source": [
        "import matplotlib.pyplot as plt\n",
        "import seaborn as sns\n",
        "from sklearn.metrics import classification_report, balanced_accuracy_score, confusion_matrix\n",
        "import warnings\n",
        "warnings.filterwarnings(\"ignore\")\n",
        "\n",
        "print(classification_report(test, test_preds))\n",
        "sns.heatmap((confusion_matrix(test,test_preds)),annot=True,annot_kws={\"size\": 40},cbar=False,fmt='g',\n",
        "            xticklabels=[-1,0,1], yticklabels=[-1,0,1])\n",
        "\n",
        "plt.xlabel('predicted')\n",
        "plt.ylabel('ground truth')"
      ],
      "execution_count": null,
      "outputs": []
    },
    {
      "cell_type": "markdown",
      "metadata": {
        "id": "nPWAdkfQzR2n",
        "colab_type": "text"
      },
      "source": [
        "##Neural Network"
      ]
    },
    {
      "cell_type": "code",
      "metadata": {
        "id": "VP6C-x5azOex",
        "colab_type": "code",
        "colab": {}
      },
      "source": [
        "from itertools import product\n",
        "from sklearn.metrics import balanced_accuracy_score\n",
        "import pandas as pd\n",
        "import numpy as np\n",
        "from sklearn.metrics import cohen_kappa_score\n",
        "from sklearn.metrics import accuracy_score, f1_score\n",
        "from sklearn.metrics import balanced_accuracy_score\n",
        "from matplotlib import pyplot as plt\n",
        "#from __future__ import print_function\n",
        "import keras\n",
        "from keras.datasets import mnist\n",
        "from keras.models import Sequential\n",
        "from keras.layers import Dense, Dropout, Flatten\n",
        "import numpy\n",
        "from sklearn.model_selection import GridSearchCV\n",
        "from keras.wrappers.scikit_learn import KerasClassifier\n",
        "from keras.layers import Dropout\n",
        "from keras.optimizers import SGD\n",
        "from keras.constraints import maxnorm\n",
        "import pickle \n",
        "#pd.set_option('display.max_colwidth', 2000) # To visualize full output\n",
        "pd.set_option(\"display.max_rows\", None, \"display.max_columns\", None)"
      ],
      "execution_count": null,
      "outputs": []
    },
    {
      "cell_type": "code",
      "metadata": {
        "id": "QcHHYdXsze87",
        "colab_type": "code",
        "colab": {}
      },
      "source": [
        "# Main code\n",
        "from sklearn.model_selection import train_test_split\n",
        "X = features\n",
        "y = labels\n",
        "param_grid = {  'Neurons':[8,16,32], \n",
        "               'batch_size':[16,32,64], \n",
        "               'epochs' : [20,30,50]} # Fix the epochs for now\n",
        "from sklearn.model_selection import StratifiedKFold\n",
        "kf = StratifiedKFold()\n",
        "test_inds = []\n",
        "test_preds = []\n",
        "test_score = []\n",
        "test = []\n",
        "for train_val_index, test_index in kf.split(X, y):\n",
        "  X_train_val, X_test = X[train_val_index], X[test_index]\n",
        "  y_train_val, y_test = y[train_val_index], y[test_index]\n",
        "  model = Sequential([\n",
        "    Dense(32, activation='relu', input_shape=(768,)), #input layer\n",
        "    Dense(32, activation='relu'), ## hidden layer \n",
        "    Dense(64,activation='relu'),\n",
        "    Dropout(0.2),\n",
        "    Dense(3, activation='softmax')])\n",
        "  model.compile(loss='binary_crossentropy', optimizer='adam', metrics=['accuracy'])\n",
        "  X_train_val, X_val, y_train_val, y_val = train_test_split(\n",
        "    X_train_val, y_train_val, test_size=0.2, random_state=42)\n",
        "\n",
        "  history = model.fit(X_train_val, pd.get_dummies(y_train_val),\n",
        "          batch_size=32, epochs=30,\n",
        "          validation_data=(X_val, pd.get_dummies(y_val)))\n",
        "  plt.plot(history.history['loss'], label='train')\n",
        "  plt.plot(history.history['val_loss'], label='test')\n",
        "  plt.legend()\n",
        "  plt.show()\n",
        "  plt.title('Loss Plots')\n",
        "  plt.plot(history.history['accuracy'], label='train')\n",
        "  plt.plot(history.history['val_accuracy'], label='test')\n",
        "  plt.title('Accuracy Plots')\n",
        "  plt.show()\n",
        "  res = model.predict(X_test)\n",
        "  score = pd.DataFrame(res).max(axis =1)\n",
        "  y_pred = pd.DataFrame(res, columns=[-1,0,1]).idxmax(axis=1)\n",
        "  accuracy = f1_score(y_test, y_pred,average='macro')\n",
        "  print(accuracy)\n",
        "  test_inds.extend(test_index)\n",
        "  test_preds.extend(y_pred)\n",
        "  test_score.extend(score)\n",
        "  test.extend(y_test)"
      ],
      "execution_count": null,
      "outputs": []
    },
    {
      "cell_type": "code",
      "metadata": {
        "id": "a_hgbiBZo2OM",
        "colab_type": "code",
        "colab": {}
      },
      "source": [
        "import matplotlib.pyplot as plt\n",
        "import seaborn as sns\n",
        "from sklearn.metrics import classification_report, balanced_accuracy_score, confusion_matrix\n",
        "from sklearn.model_selection import train_test_split\n",
        "print(classification_report(test, test_preds))\n",
        "sns.heatmap((confusion_matrix(test,test_preds)),annot=True,annot_kws={\"size\": 40},cbar=False,fmt='g',\n",
        "            xticklabels=[0,1,2], yticklabels=[0,1,2])\n",
        "\n",
        "plt.xlabel('predicted')\n",
        "plt.ylabel('ground truth')\n",
        "plt.show()"
      ],
      "execution_count": null,
      "outputs": []
    },
    {
      "cell_type": "markdown",
      "metadata": {
        "id": "R1y6iZTnWhll",
        "colab_type": "text"
      },
      "source": [
        "##TSNE plots"
      ]
    },
    {
      "cell_type": "code",
      "metadata": {
        "id": "OUVm5EuMWjAB",
        "colab_type": "code",
        "colab": {
          "base_uri": "https://localhost:8080/",
          "height": 34
        },
        "outputId": "f6787995-c70b-43b2-bdb3-50960a443502"
      },
      "source": [
        "from sklearn.manifold import TSNE\n",
        "from mpl_toolkits.mplot3d import Axes3D\n",
        "import matplotlib.pyplot as plt\n",
        "\n",
        "tsne = TSNE(n_components=2, random_state=0)\n",
        "X_2d = tsne.fit_transform(features)\n",
        "print(X_2d.shape)\n",
        "tes = labels.to_list()"
      ],
      "execution_count": null,
      "outputs": [
        {
          "output_type": "stream",
          "text": [
            "(701, 2)\n"
          ],
          "name": "stdout"
        }
      ]
    },
    {
      "cell_type": "code",
      "metadata": {
        "id": "NnvFuUhgJpHp",
        "colab_type": "code",
        "colab": {}
      },
      "source": [
        "out_arr1 = np.argsort(X_2d, kind ='mergesort', axis = 0) \n",
        "print (\"Output sorted array indices : \", out_arr1) "
      ],
      "execution_count": null,
      "outputs": []
    },
    {
      "cell_type": "code",
      "metadata": {
        "id": "FaR-PJsuXqw_",
        "colab_type": "code",
        "colab": {
          "base_uri": "https://localhost:8080/",
          "height": 388
        },
        "outputId": "d8a7708e-406c-4a2e-d3aa-46a94b030f31"
      },
      "source": [
        "target_ids = range(len(set(tes)))\n",
        "colors = 'r', 'g', 'b'\n",
        "classes = np.array([0,1,2])\n",
        "print((target_ids))\n",
        "print(type(target_ids))\n",
        "print(classes)\n",
        "print(type(classes))\n",
        "from matplotlib import pyplot as plt\n",
        "plt.figure(figsize = (6,5))\n",
        "\n",
        "for i in range(len((tes))):\n",
        "    if tes[i] == -1:\n",
        "        tes[i] = 2\n",
        "colors = 'r','g','b'\n",
        "for i, c, label in zip(target_ids, colors, classes):\n",
        "    plt.scatter(X_2d[labels == i, 0], X_2d[labels == i, 1], c=c, label=label)\n",
        "plt.legend()\n",
        "plt.show()"
      ],
      "execution_count": null,
      "outputs": [
        {
          "output_type": "stream",
          "text": [
            "range(0, 4)\n",
            "<class 'range'>\n",
            "[0 1 2]\n",
            "<class 'numpy.ndarray'>\n"
          ],
          "name": "stdout"
        },
        {
          "output_type": "display_data",
          "data": {
            "image/png": "[encoded data removed]",
            "text/plain": [
              "<Figure size 432x360 with 1 Axes>"
            ]
          },
          "metadata": {
            "tags": [],
            "needs_background": "light"
          }
        }
      ]
    },
    {
      "cell_type": "code",
      "metadata": {
        "id": "9FeaFZrjc81u",
        "colab_type": "code",
        "colab": {
          "base_uri": "https://localhost:8080/",
          "height": 85
        },
        "outputId": "b6727368-208c-4986-884b-6878fa119ca7"
      },
      "source": [
        "from sklearn import datasets\n",
        "digits = datasets.load_digits()\n",
        "# Take the first 500 data points: it's hard to see 1500 points\n",
        "X = digits.data[:500]\n",
        "y = digits.target[:500]\n",
        "\n",
        "from sklearn.manifold import TSNE\n",
        "tsne = TSNE(n_components=2, random_state=0)\n",
        "\n",
        "X_2d = tsne.fit_transform(X)\n",
        "#print(digits.target_names)\n",
        "target_ids = range(len(digits.target_names))\n",
        "print(target_ids)\n",
        "print(type(target_ids))\n",
        "print(digits.target_names)\n",
        "print(type(digits.target_names))\n",
        "from matplotlib import pyplot as plt\n",
        "plt.figure(figsize=(6, 5))\n",
        "colors = 'r', 'g', 'b', 'c', 'm', 'y', 'k', 'w', 'orange', 'purple'\n",
        "for i, c, label in zip(target_ids, colors, digits.target_names):\n",
        "    plt.scatter(X_2d[y == i, 0], X_2d[y == i, 1], c=c, label=label)\n",
        "plt.legend()\n",
        "plt.show()"
      ],
      "execution_count": null,
      "outputs": [
        {
          "output_type": "stream",
          "text": [
            "range(0, 10)\n",
            "<class 'range'>\n",
            "[0 1 2 3 4 5 6 7 8 9]\n",
            "<class 'numpy.ndarray'>\n"
          ],
          "name": "stdout"
        }
      ]
    }
  ]
}